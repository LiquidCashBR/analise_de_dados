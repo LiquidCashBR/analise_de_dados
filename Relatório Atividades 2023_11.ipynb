{
 "cells": [
  {
   "cell_type": "code",
   "execution_count": 84,
   "id": "b30385bf",
   "metadata": {},
   "outputs": [],
   "source": [
    "import pandas as pd\n",
    "import plotly.express as px"
   ]
  },
  {
   "cell_type": "markdown",
   "id": "b0f16946",
   "metadata": {},
   "source": [
    "df = pd.read_csv('Atividades 2023_11.csv')"
   ]
  },
  {
   "cell_type": "code",
   "execution_count": 85,
   "id": "3358a8f8",
   "metadata": {},
   "outputs": [],
   "source": [
    "df = pd.read_excel('RELATÓRIO DE NOVEMBRO Lussandra.xlsx', sheet_name='activities list')"
   ]
  },
  {
   "cell_type": "code",
   "execution_count": 86,
   "id": "00d1d9d3",
   "metadata": {},
   "outputs": [],
   "source": [
    "#Renomear colunas que serão trabalhadas\n",
    "df.rename(columns={'Atividade - Data atualizada': 'Data', 'Atividade - Assunto' : 'Assunto', 'Pessoa - Consultor responsável':'Consultor'}, inplace=True)"
   ]
  },
  {
   "cell_type": "code",
   "execution_count": 87,
   "id": "61507343",
   "metadata": {},
   "outputs": [
    {
     "data": {
      "text/html": [
       "<div>\n",
       "<style scoped>\n",
       "    .dataframe tbody tr th:only-of-type {\n",
       "        vertical-align: middle;\n",
       "    }\n",
       "\n",
       "    .dataframe tbody tr th {\n",
       "        vertical-align: top;\n",
       "    }\n",
       "\n",
       "    .dataframe thead th {\n",
       "        text-align: right;\n",
       "    }\n",
       "</style>\n",
       "<table border=\"1\" class=\"dataframe\">\n",
       "  <thead>\n",
       "    <tr style=\"text-align: right;\">\n",
       "      <th></th>\n",
       "      <th>Consultor</th>\n",
       "      <th>Assunto</th>\n",
       "    </tr>\n",
       "  </thead>\n",
       "  <tbody>\n",
       "    <tr>\n",
       "      <th>0</th>\n",
       "      <td>KARINA</td>\n",
       "      <td>NOVA TENTATIVA/CONTATO PROCESSO</td>\n",
       "    </tr>\n",
       "    <tr>\n",
       "      <th>1</th>\n",
       "      <td>KARINA</td>\n",
       "      <td>NOVA TENTATIVA/CONTATO PROCESSO</td>\n",
       "    </tr>\n",
       "    <tr>\n",
       "      <th>2</th>\n",
       "      <td>KARINA</td>\n",
       "      <td>NOVA TENTATIVA/CONTATO PROCESSO</td>\n",
       "    </tr>\n",
       "    <tr>\n",
       "      <th>3</th>\n",
       "      <td>KARINA</td>\n",
       "      <td>NOVA TENTATIVA/CONTATO PROCESSO</td>\n",
       "    </tr>\n",
       "    <tr>\n",
       "      <th>4</th>\n",
       "      <td>KARINA</td>\n",
       "      <td>NOVA TENTATIVA/CONTATO PROCESSO</td>\n",
       "    </tr>\n",
       "    <tr>\n",
       "      <th>...</th>\n",
       "      <td>...</td>\n",
       "      <td>...</td>\n",
       "    </tr>\n",
       "    <tr>\n",
       "      <th>2003</th>\n",
       "      <td>DANIELLE MORAES</td>\n",
       "      <td>LEAD DIGITAL</td>\n",
       "    </tr>\n",
       "    <tr>\n",
       "      <th>2004</th>\n",
       "      <td>DANIELLE MORAES</td>\n",
       "      <td>ATENDIMENTO WHATSAPP</td>\n",
       "    </tr>\n",
       "    <tr>\n",
       "      <th>2005</th>\n",
       "      <td>DANIELLE MORAES</td>\n",
       "      <td>ANÁLISE JUR. - HEITOR</td>\n",
       "    </tr>\n",
       "    <tr>\n",
       "      <th>2006</th>\n",
       "      <td>DANIELLE MORAES</td>\n",
       "      <td>LEAD DIGITAL</td>\n",
       "    </tr>\n",
       "    <tr>\n",
       "      <th>2007</th>\n",
       "      <td>GABRIELA</td>\n",
       "      <td>PESQUISA NATT</td>\n",
       "    </tr>\n",
       "  </tbody>\n",
       "</table>\n",
       "<p>2007 rows × 2 columns</p>\n",
       "</div>"
      ],
      "text/plain": [
       "            Consultor                          Assunto\n",
       "0              KARINA  NOVA TENTATIVA/CONTATO PROCESSO\n",
       "1              KARINA  NOVA TENTATIVA/CONTATO PROCESSO\n",
       "2              KARINA  NOVA TENTATIVA/CONTATO PROCESSO\n",
       "3              KARINA  NOVA TENTATIVA/CONTATO PROCESSO\n",
       "4              KARINA  NOVA TENTATIVA/CONTATO PROCESSO\n",
       "...               ...                              ...\n",
       "2003  DANIELLE MORAES                     LEAD DIGITAL\n",
       "2004  DANIELLE MORAES             ATENDIMENTO WHATSAPP\n",
       "2005  DANIELLE MORAES            ANÁLISE JUR. - HEITOR\n",
       "2006  DANIELLE MORAES                     LEAD DIGITAL\n",
       "2007         GABRIELA                    PESQUISA NATT\n",
       "\n",
       "[2007 rows x 2 columns]"
      ]
     },
     "execution_count": 87,
     "metadata": {},
     "output_type": "execute_result"
    }
   ],
   "source": [
    "#Transformar a coluna Data em formato datetime\n",
    "df.Data = pd.to_datetime(df.Data)\n",
    "\n",
    "#Selecionar ano e mês\n",
    "df = df[(df['Data'].dt.year == 2023) & (df['Data'].dt.month == 11)]\n",
    "\n",
    "#Selecionar colunas Consultor e Assunto\n",
    "df = df[['Consultor', 'Assunto']]\n",
    "\n",
    "#Visualizar tabela\n",
    "df"
   ]
  },
  {
   "cell_type": "code",
   "execution_count": 88,
   "id": "2b274542",
   "metadata": {},
   "outputs": [
    {
     "data": {
      "text/plain": [
       "KARINA             855\n",
       "GABRIELA           657\n",
       "DANIELLE MORAES    495\n",
       "Name: Consultor, dtype: int64"
      ]
     },
     "execution_count": 88,
     "metadata": {},
     "output_type": "execute_result"
    }
   ],
   "source": [
    "#Agrupamento por consultora para ver possíveis multiplicidades\n",
    "df.Consultor.value_counts()"
   ]
  },
  {
   "cell_type": "code",
   "execution_count": 89,
   "id": "fbcdedab",
   "metadata": {},
   "outputs": [],
   "source": [
    "#Agrupamento das consultoras para unificação\n",
    "\n",
    "mapeamento = {'Gabriela': 'GABRIELA', 'DANIELLE MORAES': 'DANIELLE', 'Karina': 'KARINA', 'Danielle Moraes': 'DANIELLE','Danielle Moares':'DANIELLE' }"
   ]
  },
  {
   "cell_type": "code",
   "execution_count": 90,
   "id": "bb6068ee",
   "metadata": {},
   "outputs": [],
   "source": [
    "df['Consultor'] = df['Consultor'].replace(mapeamento)"
   ]
  },
  {
   "cell_type": "markdown",
   "id": "785bc393",
   "metadata": {},
   "source": [
    "### Elaboração do Funil\n",
    "\n",
    "Para elaboração do gráfico de funil, é preciso agrupar os estágios que cada lead/cliente está para que se tenha uma melhor visualização da performance de cada consultora e da empresa no geral.\n",
    "\n",
    "Numa primeira etapa, vamos avaliar como estão registradas as atividades."
   ]
  },
  {
   "cell_type": "code",
   "execution_count": 93,
   "id": "bc61e0cf",
   "metadata": {
    "scrolled": false
   },
   "outputs": [
    {
     "data": {
      "text/plain": [
       "1ª TENTATIVA                       174\n",
       "2ª TENTATIVA                       143\n",
       "3ª TENTATIVA                       142\n",
       "4ª TENTATIVA                       138\n",
       "5ª TENTATIVA                       121\n",
       "6ª TENTATIVA                       100\n",
       "7ª TENTATIVA                       101\n",
       "ADVOGADOS                            2\n",
       "AGUARDANDO AUTORIZAÇÃO               2\n",
       "AGUARDANDO PROPOSTA                 19\n",
       "AGUARDANDO RETORNO                  19\n",
       "AGUARDANDO RETORNO DO CLIENTE        5\n",
       "ANÁLISE JUR. - HEITOR                3\n",
       "ANÁLISE PRECATÓRIOS FEDERAIS         2\n",
       "ANÁLISE PROCESSUAL                   1\n",
       "APRESENTAÇÃO DE PROPOSTA            13\n",
       "ASSINATURA/PAGAMENTO                 5\n",
       "ATENDIMENTO WHATSAPP                46\n",
       "CONTATO INCORRETO                   12\n",
       "CONTRAPROPOSTA                       1\n",
       "CPF RECUPERADO                       5\n",
       "DECLINOU A PROPOSTA                  6\n",
       "DOCUMENTOS PESSOAIS                  3\n",
       "EMISSÃO DE CERTIDÕES                12\n",
       "EMPRESAS                             1\n",
       "ENVIO DE E-MAIL                      4\n",
       "ENVIO DE VÍDEO                     141\n",
       "FOLLOW UP - INSTAGRAM                4\n",
       "FOLLOW UP - LIGAÇÃO                  2\n",
       "FOLLOW UP - WHATSAPP DP             12\n",
       "JÁ RECEBEU                           4\n",
       "LEAD DIGITAL                         9\n",
       "LEADS NÃO RESPONDEM                  4\n",
       "LIGAÇÃO                            131\n",
       "NOVA TENTATIVA/CONTATO PROCESSO    221\n",
       "NÃO APRESENTAR PROPOSTA              1\n",
       "NÃO LOCALIZADO                       8\n",
       "NÃO TEM INTERESSE                   45\n",
       "NÃO TEM PRECATÓRIO                   2\n",
       "PESQUISA CRED                       21\n",
       "PESQUISA INSTAGRAM/FACEBOOK        124\n",
       "PESQUISA NATT                      182\n",
       "PROPOSTA ACEITA                      6\n",
       "PROPOSTA AGENDADA                    1\n",
       "PROPOSTA NÃO APRESENTADA             4\n",
       "PROPOSTA PRONTA                      5\n",
       "Name: Assunto, dtype: int64"
      ]
     },
     "execution_count": 93,
     "metadata": {},
     "output_type": "execute_result"
    }
   ],
   "source": [
    "df['Assunto'].value_counts().sort_index().head(60)"
   ]
  },
  {
   "cell_type": "code",
   "execution_count": 94,
   "id": "aeb78dc9",
   "metadata": {},
   "outputs": [],
   "source": [
    "#Unificando os nomes das etapas para elaboração do funil\n",
    "map_prospeccao = {'1ª TENTATIVA': 'Prospecção','2ª TENTAIVA': 'Prospecção', '2ª TENTATIVA': 'Prospecção','2ª  TENTATIVA':'Prospecção',\n",
    "                  '3ª TENTATIVA': 'Prospecção','3ª  TENTATIVA':'Prospecção', '4ª TENTATIVA': 'Prospecção',\n",
    "                  '5ª TENTATIVA':'Prospecção','5ª  TENTATIVA': 'Prospecção','6ª TENTATIVA': 'Prospecção',\n",
    "                  '7ª TENTATIVA': 'Prospecção','7ª  TENTATIVA':'Prospecção','PESQUISA CRED': 'Prospecção',\n",
    "                  'PESQUISA NAT BASE': 'Prospecção','NOVA TENTATIVA/PESQUISA PROCESSO': 'Prospecção',\n",
    "                  'PESQUISA INSTAGRAM': 'Prospecção','PESSQUISA CRED':'Prospecção', 'ADVOGADOS':'Prospecção',\n",
    "                  'PESQUISA NATT':'Prospecção','CONTATO INCORRETO':'Prospecção', 'CPF RECUPERADO': 'Prospecção',\n",
    "                  'PESQUISA INSTAGRAM/FACEBOOK':'Prospecção','PESQUISA NAT':'Prospecção',\n",
    "                  'NOVA TENTATIVA/ CONTATO PROCESSO': 'Prospecção','NOVA TENTATIVA/ PESQUISA PROCESSO': 'Prospecção',\n",
    "                  'NOVA TENTATIVA/CONTATO INCORRETO': 'Prospecção','NOVA TENTATIVA/CONTATO PROCESSO':'Prospecção',\n",
    "                  'NOVA TENTATIVA/PESQUISA PROCESSO':'Prospecção','NOVA TENTATIVA/PROCESSO':'Prospecção',\n",
    "                  'NÃO LOCALIZADO':'Prospecção','NOVE TENTATIVA/PESQUISA PROCESSO':'Prospecção', 'PESQUISA PROCESSUAL':'Prospecção'}\n",
    "\n",
    "map_atendimento = {'AGUARDANDO RETORNO': '1º Atendimento','AGUARDANDO O RETORNO DO CLIENTE':'1º Atendimento',\n",
    "                   'AGUARDANDO RETORNO DO CLIENTE':'1º Atendimento','TRIMESTRALIDADE': '1º Atendimento',\n",
    "                   'NÃO TEM INTERESSE': '1º Atendimento','NAÕ TEM INTERESSE':'1º Atendimento',\n",
    "                  'AGUARDANDO AUTORIZAÇÃO': '1º Atendimento','JÁ RECEBEU': '1º Atendimento',\n",
    "                   'LEADS NÃO RESPONDEM': '1º Atendimento', '1ª ATENDIMENTO':'1º Atendimento', 'LEAD DIGITAL':'1º Atendimento'}\n",
    "\n",
    "map_fup = {'FOLLOW UP -  WHATSAPP': 'Follow Up', 'ENVÍO DE VÍDEO': 'Follow Up', 'LIGAÇÃO': 'Follow Up',\n",
    "          'Follow up - Ligação': 'Follow Up', 'FOLLOW UP - INSTAGRAM': 'Follow Up', 'FOLLOW UP - PESQUISA INSTAGRAM':'Prospecção',\n",
    "          'FOLLOW - UP INSTAGRAM':'Follow Up'}\n",
    "\n",
    "map_elaboracao = {'AGUARDANDO PROPOSTA': 'Elaboração','AGUARDAND PROPOSTA':'Elaboração',\n",
    "                  'Dados complementares - Comercial': 'Elaboração','ANÁLISE JUR. - HEITOR': 'Elaboração',\n",
    "                  'ANÁLISE JUR.  HEITOR':'Elaboração', 'ANÁLISE JUR. HEITOR':'Elaboração',\n",
    "                 'CÁLCULO FINALIZADO': 'Elaboração', 'AGUARDANDO PROPOSTA': 'Elaboração','EMISSÃO  DE CERTIDÕES': 'Elaboração',\n",
    "                  'EMISSÃO DE CERTIDÃO': 'Elaboração','EMISSÃO DE CERTIDÕES': 'Elaboração',\n",
    "                  'Certidões com Pendências': 'Elaboração', 'Contraproposta': 'Elaboração',\n",
    "                 'Aguardando Andamento Processual': 'Elaboração', 'NÃO APRESENTAR PROPOSTA': 'Elaboração',\n",
    "                 'ANÁLISE PRECATÓRIOS FEDERAIS':'Elaboração'}\n",
    "\n",
    "map_apresentacao = {'PROPOSTA PRONTA': 'Apresentação', 'PROPOSTA AGENDADA': 'Apresentação', \n",
    "                    'APRESENTAÇÃO DE PROPOSTA': 'Apresentação','APRESENTAÇÃO DA PROPOSTA': 'Apresentação',\n",
    "                    'APRSENTAÇÃO DE PROPOSTA':'Apresentação', 'AGUARDANDO RESPOSTA DO CLIENTE': 'Apresentação',\n",
    "                   'DECLINOU A PROPOSTA': 'Apresentação','DECLINOU PROPOSTA': 'Apresentação',\n",
    "                    'FOLLOW UP AVALIAÇÃO': 'Apresentação',\n",
    "                   'PROPOSTA NÃO APRESENTADA': 'Apresentação'}\n",
    "\n",
    "map_fup_dp = {'FOLLOW UP - WHATSAPP DP': 'Follow Up DP', 'Follow up- sms DP': 'Follow Up DP',\n",
    "              'Follow up e-mail DP': 'Follow Up DP', 'NÃO RETRABALHAR DP':'Follow Up DP',\n",
    "          'Follow up- Ligação DP': 'Follow Up DP', 'Follow up- Instagram DP': 'Follow Up DP', 'NÃO RETABRALHAR DP': 'Follow Up DP' }\n",
    "\n",
    "map_fechamento = {'PROPOSTA ACEITA': 'Fechamento', 'DOCUMENTOS PESSOAIS': 'Fechamento','CERTIDÕES': 'Fechamento','CERTIDOES':'Fechamento',\n",
    "                 'ANÁLISE PROCESSUAL': 'Fechamento','ASSINATURA/PAGAMENTO': 'Fechamento','COLETA DE DEPOIMENTO': 'Fechamento'}\n",
    "\n",
    "map_lead_morto = {'NÃO TEM PRECATÓRIO':'Lead Morto','LEAD DIGITAL FEDERAL/ OUTROS ESTADOS':'Lead Morto'}\n",
    "\n",
    "df_agrupado = df.copy()\n",
    "\n",
    "df_agrupado['Assunto'] = df_agrupado['Assunto'].replace(map_prospeccao) \\\n",
    "                        .replace(map_atendimento) \\\n",
    "                        .replace(map_fup) \\\n",
    "                        .replace(map_elaboracao) \\\n",
    "                        .replace(map_apresentacao) \\\n",
    "                        .replace(map_fup_dp) \\\n",
    "                        .replace(map_fechamento) \\\n",
    "                        .replace(map_lead_morto)\n"
   ]
  },
  {
   "cell_type": "code",
   "execution_count": 95,
   "id": "039b7826",
   "metadata": {},
   "outputs": [
    {
     "data": {
      "text/html": [
       "<div>\n",
       "<style scoped>\n",
       "    .dataframe tbody tr th:only-of-type {\n",
       "        vertical-align: middle;\n",
       "    }\n",
       "\n",
       "    .dataframe tbody tr th {\n",
       "        vertical-align: top;\n",
       "    }\n",
       "\n",
       "    .dataframe thead th {\n",
       "        text-align: right;\n",
       "    }\n",
       "</style>\n",
       "<table border=\"1\" class=\"dataframe\">\n",
       "  <thead>\n",
       "    <tr style=\"text-align: right;\">\n",
       "      <th></th>\n",
       "      <th>Consultor</th>\n",
       "      <th>Assunto</th>\n",
       "    </tr>\n",
       "  </thead>\n",
       "  <tbody>\n",
       "    <tr>\n",
       "      <th>0</th>\n",
       "      <td>KARINA</td>\n",
       "      <td>Prospecção</td>\n",
       "    </tr>\n",
       "    <tr>\n",
       "      <th>1</th>\n",
       "      <td>KARINA</td>\n",
       "      <td>Prospecção</td>\n",
       "    </tr>\n",
       "    <tr>\n",
       "      <th>2</th>\n",
       "      <td>KARINA</td>\n",
       "      <td>Prospecção</td>\n",
       "    </tr>\n",
       "    <tr>\n",
       "      <th>3</th>\n",
       "      <td>KARINA</td>\n",
       "      <td>Prospecção</td>\n",
       "    </tr>\n",
       "    <tr>\n",
       "      <th>4</th>\n",
       "      <td>KARINA</td>\n",
       "      <td>Prospecção</td>\n",
       "    </tr>\n",
       "    <tr>\n",
       "      <th>...</th>\n",
       "      <td>...</td>\n",
       "      <td>...</td>\n",
       "    </tr>\n",
       "    <tr>\n",
       "      <th>2003</th>\n",
       "      <td>DANIELLE</td>\n",
       "      <td>1º Atendimento</td>\n",
       "    </tr>\n",
       "    <tr>\n",
       "      <th>2004</th>\n",
       "      <td>DANIELLE</td>\n",
       "      <td>ATENDIMENTO WHATSAPP</td>\n",
       "    </tr>\n",
       "    <tr>\n",
       "      <th>2005</th>\n",
       "      <td>DANIELLE</td>\n",
       "      <td>Elaboração</td>\n",
       "    </tr>\n",
       "    <tr>\n",
       "      <th>2006</th>\n",
       "      <td>DANIELLE</td>\n",
       "      <td>1º Atendimento</td>\n",
       "    </tr>\n",
       "    <tr>\n",
       "      <th>2007</th>\n",
       "      <td>GABRIELA</td>\n",
       "      <td>Prospecção</td>\n",
       "    </tr>\n",
       "  </tbody>\n",
       "</table>\n",
       "<p>2007 rows × 2 columns</p>\n",
       "</div>"
      ],
      "text/plain": [
       "     Consultor               Assunto\n",
       "0       KARINA            Prospecção\n",
       "1       KARINA            Prospecção\n",
       "2       KARINA            Prospecção\n",
       "3       KARINA            Prospecção\n",
       "4       KARINA            Prospecção\n",
       "...        ...                   ...\n",
       "2003  DANIELLE        1º Atendimento\n",
       "2004  DANIELLE  ATENDIMENTO WHATSAPP\n",
       "2005  DANIELLE            Elaboração\n",
       "2006  DANIELLE        1º Atendimento\n",
       "2007  GABRIELA            Prospecção\n",
       "\n",
       "[2007 rows x 2 columns]"
      ]
     },
     "execution_count": 95,
     "metadata": {},
     "output_type": "execute_result"
    }
   ],
   "source": [
    "df_agrupado"
   ]
  },
  {
   "cell_type": "code",
   "execution_count": 96,
   "id": "85dbf1e1",
   "metadata": {},
   "outputs": [
    {
     "data": {
      "text/html": [
       "<div>\n",
       "<style scoped>\n",
       "    .dataframe tbody tr th:only-of-type {\n",
       "        vertical-align: middle;\n",
       "    }\n",
       "\n",
       "    .dataframe tbody tr th {\n",
       "        vertical-align: top;\n",
       "    }\n",
       "\n",
       "    .dataframe thead th {\n",
       "        text-align: right;\n",
       "    }\n",
       "</style>\n",
       "<table border=\"1\" class=\"dataframe\">\n",
       "  <thead>\n",
       "    <tr style=\"text-align: right;\">\n",
       "      <th>Assunto</th>\n",
       "      <th>1º Atendimento</th>\n",
       "      <th>ATENDIMENTO WHATSAPP</th>\n",
       "      <th>Apresentação</th>\n",
       "      <th>CONTRAPROPOSTA</th>\n",
       "      <th>EMPRESAS</th>\n",
       "      <th>ENVIO DE E-MAIL</th>\n",
       "      <th>ENVIO DE VÍDEO</th>\n",
       "      <th>Elaboração</th>\n",
       "      <th>FOLLOW UP - LIGAÇÃO</th>\n",
       "      <th>Fechamento</th>\n",
       "      <th>Follow Up</th>\n",
       "      <th>Follow Up DP</th>\n",
       "      <th>Lead Morto</th>\n",
       "      <th>Prospecção</th>\n",
       "    </tr>\n",
       "    <tr>\n",
       "      <th>Consultor</th>\n",
       "      <th></th>\n",
       "      <th></th>\n",
       "      <th></th>\n",
       "      <th></th>\n",
       "      <th></th>\n",
       "      <th></th>\n",
       "      <th></th>\n",
       "      <th></th>\n",
       "      <th></th>\n",
       "      <th></th>\n",
       "      <th></th>\n",
       "      <th></th>\n",
       "      <th></th>\n",
       "      <th></th>\n",
       "    </tr>\n",
       "  </thead>\n",
       "  <tbody>\n",
       "    <tr>\n",
       "      <th>DANIELLE</th>\n",
       "      <td>44.0</td>\n",
       "      <td>27.0</td>\n",
       "      <td>17.0</td>\n",
       "      <td>1.0</td>\n",
       "      <td>NaN</td>\n",
       "      <td>NaN</td>\n",
       "      <td>53.0</td>\n",
       "      <td>10.0</td>\n",
       "      <td>NaN</td>\n",
       "      <td>3.0</td>\n",
       "      <td>86.0</td>\n",
       "      <td>NaN</td>\n",
       "      <td>2.0</td>\n",
       "      <td>252.0</td>\n",
       "    </tr>\n",
       "    <tr>\n",
       "      <th>GABRIELA</th>\n",
       "      <td>26.0</td>\n",
       "      <td>17.0</td>\n",
       "      <td>11.0</td>\n",
       "      <td>NaN</td>\n",
       "      <td>1.0</td>\n",
       "      <td>4.0</td>\n",
       "      <td>NaN</td>\n",
       "      <td>15.0</td>\n",
       "      <td>2.0</td>\n",
       "      <td>12.0</td>\n",
       "      <td>26.0</td>\n",
       "      <td>12.0</td>\n",
       "      <td>NaN</td>\n",
       "      <td>531.0</td>\n",
       "    </tr>\n",
       "    <tr>\n",
       "      <th>KARINA</th>\n",
       "      <td>18.0</td>\n",
       "      <td>2.0</td>\n",
       "      <td>1.0</td>\n",
       "      <td>NaN</td>\n",
       "      <td>NaN</td>\n",
       "      <td>NaN</td>\n",
       "      <td>88.0</td>\n",
       "      <td>12.0</td>\n",
       "      <td>NaN</td>\n",
       "      <td>NaN</td>\n",
       "      <td>23.0</td>\n",
       "      <td>NaN</td>\n",
       "      <td>NaN</td>\n",
       "      <td>711.0</td>\n",
       "    </tr>\n",
       "  </tbody>\n",
       "</table>\n",
       "</div>"
      ],
      "text/plain": [
       "Assunto    1º Atendimento  ATENDIMENTO WHATSAPP  Apresentação  CONTRAPROPOSTA  \\\n",
       "Consultor                                                                       \n",
       "DANIELLE             44.0                  27.0          17.0             1.0   \n",
       "GABRIELA             26.0                  17.0          11.0             NaN   \n",
       "KARINA               18.0                   2.0           1.0             NaN   \n",
       "\n",
       "Assunto    EMPRESAS  ENVIO DE E-MAIL  ENVIO DE VÍDEO  Elaboração  \\\n",
       "Consultor                                                          \n",
       "DANIELLE        NaN              NaN            53.0        10.0   \n",
       "GABRIELA        1.0              4.0             NaN        15.0   \n",
       "KARINA          NaN              NaN            88.0        12.0   \n",
       "\n",
       "Assunto    FOLLOW UP - LIGAÇÃO  Fechamento  Follow Up  Follow Up DP  \\\n",
       "Consultor                                                             \n",
       "DANIELLE                   NaN         3.0       86.0           NaN   \n",
       "GABRIELA                   2.0        12.0       26.0          12.0   \n",
       "KARINA                     NaN         NaN       23.0           NaN   \n",
       "\n",
       "Assunto    Lead Morto  Prospecção  \n",
       "Consultor                          \n",
       "DANIELLE          2.0       252.0  \n",
       "GABRIELA          NaN       531.0  \n",
       "KARINA            NaN       711.0  "
      ]
     },
     "execution_count": 96,
     "metadata": {},
     "output_type": "execute_result"
    }
   ],
   "source": [
    "#Tabela Dinâmica\n",
    "\n",
    "df_agrupado.pivot_table(index='Consultor', columns='Assunto', aggfunc='size')"
   ]
  },
  {
   "cell_type": "code",
   "execution_count": 77,
   "id": "caee4901",
   "metadata": {},
   "outputs": [
    {
     "data": {
      "text/html": [
       "<div>\n",
       "<style scoped>\n",
       "    .dataframe tbody tr th:only-of-type {\n",
       "        vertical-align: middle;\n",
       "    }\n",
       "\n",
       "    .dataframe tbody tr th {\n",
       "        vertical-align: top;\n",
       "    }\n",
       "\n",
       "    .dataframe thead th {\n",
       "        text-align: right;\n",
       "    }\n",
       "</style>\n",
       "<table border=\"1\" class=\"dataframe\">\n",
       "  <thead>\n",
       "    <tr style=\"text-align: right;\">\n",
       "      <th></th>\n",
       "      <th>DANIELLE</th>\n",
       "      <th>GABRIELA</th>\n",
       "      <th>KARINA</th>\n",
       "    </tr>\n",
       "    <tr>\n",
       "      <th>Assunto</th>\n",
       "      <th></th>\n",
       "      <th></th>\n",
       "      <th></th>\n",
       "    </tr>\n",
       "  </thead>\n",
       "  <tbody>\n",
       "    <tr>\n",
       "      <th>Prospecção</th>\n",
       "      <td>252.0</td>\n",
       "      <td>531.0</td>\n",
       "      <td>711.0</td>\n",
       "    </tr>\n",
       "    <tr>\n",
       "      <th>1º Atendimento</th>\n",
       "      <td>44.0</td>\n",
       "      <td>26.0</td>\n",
       "      <td>18.0</td>\n",
       "    </tr>\n",
       "    <tr>\n",
       "      <th>Follow Up</th>\n",
       "      <td>86.0</td>\n",
       "      <td>26.0</td>\n",
       "      <td>23.0</td>\n",
       "    </tr>\n",
       "    <tr>\n",
       "      <th>Elaboração</th>\n",
       "      <td>10.0</td>\n",
       "      <td>15.0</td>\n",
       "      <td>12.0</td>\n",
       "    </tr>\n",
       "    <tr>\n",
       "      <th>Apresentação</th>\n",
       "      <td>17.0</td>\n",
       "      <td>11.0</td>\n",
       "      <td>1.0</td>\n",
       "    </tr>\n",
       "    <tr>\n",
       "      <th>Follow Up DP</th>\n",
       "      <td>0.0</td>\n",
       "      <td>12.0</td>\n",
       "      <td>0.0</td>\n",
       "    </tr>\n",
       "    <tr>\n",
       "      <th>Fechamento</th>\n",
       "      <td>3.0</td>\n",
       "      <td>12.0</td>\n",
       "      <td>0.0</td>\n",
       "    </tr>\n",
       "    <tr>\n",
       "      <th>Lead Morto</th>\n",
       "      <td>2.0</td>\n",
       "      <td>0.0</td>\n",
       "      <td>0.0</td>\n",
       "    </tr>\n",
       "  </tbody>\n",
       "</table>\n",
       "</div>"
      ],
      "text/plain": [
       "                DANIELLE  GABRIELA  KARINA\n",
       "Assunto                                   \n",
       "Prospecção         252.0     531.0   711.0\n",
       "1º Atendimento      44.0      26.0    18.0\n",
       "Follow Up           86.0      26.0    23.0\n",
       "Elaboração          10.0      15.0    12.0\n",
       "Apresentação        17.0      11.0     1.0\n",
       "Follow Up DP         0.0      12.0     0.0\n",
       "Fechamento           3.0      12.0     0.0\n",
       "Lead Morto           2.0       0.0     0.0"
      ]
     },
     "execution_count": 77,
     "metadata": {},
     "output_type": "execute_result"
    }
   ],
   "source": [
    "#Exportação da tabela dinâmica em um novo dataframe para que os dados possam originar um gráfico\n",
    "df_pivot = df_agrupado.pivot_table(index='Assunto', columns='Consultor', aggfunc='size')\n",
    "df_agrupado = pd.DataFrame(df_pivot.to_records())\n",
    "df_agrupado.set_index('Assunto', inplace=True)\n",
    "\n",
    "#Ordenar as etapas para que fiquem na ordem específica do funil\n",
    "ordem_etapas = ['Prospecção', '1º Atendimento', 'Follow Up', 'Elaboração', 'Apresentação',\n",
    "                'Follow Up DP', 'Fechamento', 'Lead Morto']\n",
    "df_ordenado = df_agrupado.loc[ordem_etapas]\n",
    "df_ordenado = df_ordenado.fillna(0)\n",
    "df_ordenado"
   ]
  },
  {
   "cell_type": "code",
   "execution_count": 104,
   "id": "c231dffd",
   "metadata": {},
   "outputs": [
    {
     "data": {
      "application/vnd.plotly.v1+json": {
       "config": {
        "plotlyServerURL": "https://plot.ly"
       },
       "data": [
        {
         "hovertemplate": "Consultora=DANIELLE<br>Quantidade=%{x}<br>Assunto=%{y}<extra></extra>",
         "legendgroup": "DANIELLE",
         "marker": {
          "color": "#636efa"
         },
         "name": "DANIELLE",
         "orientation": "h",
         "showlegend": true,
         "type": "funnel",
         "x": [
          252,
          44,
          86,
          10,
          17,
          0,
          3,
          2
         ],
         "xaxis": "x",
         "y": [
          "Prospecção",
          "1º Atendimento",
          "Follow Up",
          "Elaboração",
          "Apresentação",
          "Follow Up DP",
          "Fechamento",
          "Lead Morto"
         ],
         "yaxis": "y"
        },
        {
         "hovertemplate": "Consultora=GABRIELA<br>Quantidade=%{x}<br>Assunto=%{y}<extra></extra>",
         "legendgroup": "GABRIELA",
         "marker": {
          "color": "#EF553B"
         },
         "name": "GABRIELA",
         "orientation": "h",
         "showlegend": true,
         "type": "funnel",
         "x": [
          531,
          26,
          26,
          15,
          11,
          12,
          12,
          0
         ],
         "xaxis": "x",
         "y": [
          "Prospecção",
          "1º Atendimento",
          "Follow Up",
          "Elaboração",
          "Apresentação",
          "Follow Up DP",
          "Fechamento",
          "Lead Morto"
         ],
         "yaxis": "y"
        },
        {
         "hovertemplate": "Consultora=KARINA<br>Quantidade=%{x}<br>Assunto=%{y}<extra></extra>",
         "legendgroup": "KARINA",
         "marker": {
          "color": "#00cc96"
         },
         "name": "KARINA",
         "orientation": "h",
         "showlegend": true,
         "type": "funnel",
         "x": [
          711,
          18,
          23,
          12,
          1,
          0,
          0,
          0
         ],
         "xaxis": "x",
         "y": [
          "Prospecção",
          "1º Atendimento",
          "Follow Up",
          "Elaboração",
          "Apresentação",
          "Follow Up DP",
          "Fechamento",
          "Lead Morto"
         ],
         "yaxis": "y"
        }
       ],
       "layout": {
        "legend": {
         "title": {
          "text": "Consultora"
         },
         "tracegroupgap": 0
        },
        "template": {
         "data": {
          "bar": [
           {
            "error_x": {
             "color": "#2a3f5f"
            },
            "error_y": {
             "color": "#2a3f5f"
            },
            "marker": {
             "line": {
              "color": "#E5ECF6",
              "width": 0.5
             },
             "pattern": {
              "fillmode": "overlay",
              "size": 10,
              "solidity": 0.2
             }
            },
            "type": "bar"
           }
          ],
          "barpolar": [
           {
            "marker": {
             "line": {
              "color": "#E5ECF6",
              "width": 0.5
             },
             "pattern": {
              "fillmode": "overlay",
              "size": 10,
              "solidity": 0.2
             }
            },
            "type": "barpolar"
           }
          ],
          "carpet": [
           {
            "aaxis": {
             "endlinecolor": "#2a3f5f",
             "gridcolor": "white",
             "linecolor": "white",
             "minorgridcolor": "white",
             "startlinecolor": "#2a3f5f"
            },
            "baxis": {
             "endlinecolor": "#2a3f5f",
             "gridcolor": "white",
             "linecolor": "white",
             "minorgridcolor": "white",
             "startlinecolor": "#2a3f5f"
            },
            "type": "carpet"
           }
          ],
          "choropleth": [
           {
            "colorbar": {
             "outlinewidth": 0,
             "ticks": ""
            },
            "type": "choropleth"
           }
          ],
          "contour": [
           {
            "colorbar": {
             "outlinewidth": 0,
             "ticks": ""
            },
            "colorscale": [
             [
              0,
              "#0d0887"
             ],
             [
              0.1111111111111111,
              "#46039f"
             ],
             [
              0.2222222222222222,
              "#7201a8"
             ],
             [
              0.3333333333333333,
              "#9c179e"
             ],
             [
              0.4444444444444444,
              "#bd3786"
             ],
             [
              0.5555555555555556,
              "#d8576b"
             ],
             [
              0.6666666666666666,
              "#ed7953"
             ],
             [
              0.7777777777777778,
              "#fb9f3a"
             ],
             [
              0.8888888888888888,
              "#fdca26"
             ],
             [
              1,
              "#f0f921"
             ]
            ],
            "type": "contour"
           }
          ],
          "contourcarpet": [
           {
            "colorbar": {
             "outlinewidth": 0,
             "ticks": ""
            },
            "type": "contourcarpet"
           }
          ],
          "heatmap": [
           {
            "colorbar": {
             "outlinewidth": 0,
             "ticks": ""
            },
            "colorscale": [
             [
              0,
              "#0d0887"
             ],
             [
              0.1111111111111111,
              "#46039f"
             ],
             [
              0.2222222222222222,
              "#7201a8"
             ],
             [
              0.3333333333333333,
              "#9c179e"
             ],
             [
              0.4444444444444444,
              "#bd3786"
             ],
             [
              0.5555555555555556,
              "#d8576b"
             ],
             [
              0.6666666666666666,
              "#ed7953"
             ],
             [
              0.7777777777777778,
              "#fb9f3a"
             ],
             [
              0.8888888888888888,
              "#fdca26"
             ],
             [
              1,
              "#f0f921"
             ]
            ],
            "type": "heatmap"
           }
          ],
          "heatmapgl": [
           {
            "colorbar": {
             "outlinewidth": 0,
             "ticks": ""
            },
            "colorscale": [
             [
              0,
              "#0d0887"
             ],
             [
              0.1111111111111111,
              "#46039f"
             ],
             [
              0.2222222222222222,
              "#7201a8"
             ],
             [
              0.3333333333333333,
              "#9c179e"
             ],
             [
              0.4444444444444444,
              "#bd3786"
             ],
             [
              0.5555555555555556,
              "#d8576b"
             ],
             [
              0.6666666666666666,
              "#ed7953"
             ],
             [
              0.7777777777777778,
              "#fb9f3a"
             ],
             [
              0.8888888888888888,
              "#fdca26"
             ],
             [
              1,
              "#f0f921"
             ]
            ],
            "type": "heatmapgl"
           }
          ],
          "histogram": [
           {
            "marker": {
             "pattern": {
              "fillmode": "overlay",
              "size": 10,
              "solidity": 0.2
             }
            },
            "type": "histogram"
           }
          ],
          "histogram2d": [
           {
            "colorbar": {
             "outlinewidth": 0,
             "ticks": ""
            },
            "colorscale": [
             [
              0,
              "#0d0887"
             ],
             [
              0.1111111111111111,
              "#46039f"
             ],
             [
              0.2222222222222222,
              "#7201a8"
             ],
             [
              0.3333333333333333,
              "#9c179e"
             ],
             [
              0.4444444444444444,
              "#bd3786"
             ],
             [
              0.5555555555555556,
              "#d8576b"
             ],
             [
              0.6666666666666666,
              "#ed7953"
             ],
             [
              0.7777777777777778,
              "#fb9f3a"
             ],
             [
              0.8888888888888888,
              "#fdca26"
             ],
             [
              1,
              "#f0f921"
             ]
            ],
            "type": "histogram2d"
           }
          ],
          "histogram2dcontour": [
           {
            "colorbar": {
             "outlinewidth": 0,
             "ticks": ""
            },
            "colorscale": [
             [
              0,
              "#0d0887"
             ],
             [
              0.1111111111111111,
              "#46039f"
             ],
             [
              0.2222222222222222,
              "#7201a8"
             ],
             [
              0.3333333333333333,
              "#9c179e"
             ],
             [
              0.4444444444444444,
              "#bd3786"
             ],
             [
              0.5555555555555556,
              "#d8576b"
             ],
             [
              0.6666666666666666,
              "#ed7953"
             ],
             [
              0.7777777777777778,
              "#fb9f3a"
             ],
             [
              0.8888888888888888,
              "#fdca26"
             ],
             [
              1,
              "#f0f921"
             ]
            ],
            "type": "histogram2dcontour"
           }
          ],
          "mesh3d": [
           {
            "colorbar": {
             "outlinewidth": 0,
             "ticks": ""
            },
            "type": "mesh3d"
           }
          ],
          "parcoords": [
           {
            "line": {
             "colorbar": {
              "outlinewidth": 0,
              "ticks": ""
             }
            },
            "type": "parcoords"
           }
          ],
          "pie": [
           {
            "automargin": true,
            "type": "pie"
           }
          ],
          "scatter": [
           {
            "fillpattern": {
             "fillmode": "overlay",
             "size": 10,
             "solidity": 0.2
            },
            "type": "scatter"
           }
          ],
          "scatter3d": [
           {
            "line": {
             "colorbar": {
              "outlinewidth": 0,
              "ticks": ""
             }
            },
            "marker": {
             "colorbar": {
              "outlinewidth": 0,
              "ticks": ""
             }
            },
            "type": "scatter3d"
           }
          ],
          "scattercarpet": [
           {
            "marker": {
             "colorbar": {
              "outlinewidth": 0,
              "ticks": ""
             }
            },
            "type": "scattercarpet"
           }
          ],
          "scattergeo": [
           {
            "marker": {
             "colorbar": {
              "outlinewidth": 0,
              "ticks": ""
             }
            },
            "type": "scattergeo"
           }
          ],
          "scattergl": [
           {
            "marker": {
             "colorbar": {
              "outlinewidth": 0,
              "ticks": ""
             }
            },
            "type": "scattergl"
           }
          ],
          "scattermapbox": [
           {
            "marker": {
             "colorbar": {
              "outlinewidth": 0,
              "ticks": ""
             }
            },
            "type": "scattermapbox"
           }
          ],
          "scatterpolar": [
           {
            "marker": {
             "colorbar": {
              "outlinewidth": 0,
              "ticks": ""
             }
            },
            "type": "scatterpolar"
           }
          ],
          "scatterpolargl": [
           {
            "marker": {
             "colorbar": {
              "outlinewidth": 0,
              "ticks": ""
             }
            },
            "type": "scatterpolargl"
           }
          ],
          "scatterternary": [
           {
            "marker": {
             "colorbar": {
              "outlinewidth": 0,
              "ticks": ""
             }
            },
            "type": "scatterternary"
           }
          ],
          "surface": [
           {
            "colorbar": {
             "outlinewidth": 0,
             "ticks": ""
            },
            "colorscale": [
             [
              0,
              "#0d0887"
             ],
             [
              0.1111111111111111,
              "#46039f"
             ],
             [
              0.2222222222222222,
              "#7201a8"
             ],
             [
              0.3333333333333333,
              "#9c179e"
             ],
             [
              0.4444444444444444,
              "#bd3786"
             ],
             [
              0.5555555555555556,
              "#d8576b"
             ],
             [
              0.6666666666666666,
              "#ed7953"
             ],
             [
              0.7777777777777778,
              "#fb9f3a"
             ],
             [
              0.8888888888888888,
              "#fdca26"
             ],
             [
              1,
              "#f0f921"
             ]
            ],
            "type": "surface"
           }
          ],
          "table": [
           {
            "cells": {
             "fill": {
              "color": "#EBF0F8"
             },
             "line": {
              "color": "white"
             }
            },
            "header": {
             "fill": {
              "color": "#C8D4E3"
             },
             "line": {
              "color": "white"
             }
            },
            "type": "table"
           }
          ]
         },
         "layout": {
          "annotationdefaults": {
           "arrowcolor": "#2a3f5f",
           "arrowhead": 0,
           "arrowwidth": 1
          },
          "autotypenumbers": "strict",
          "coloraxis": {
           "colorbar": {
            "outlinewidth": 0,
            "ticks": ""
           }
          },
          "colorscale": {
           "diverging": [
            [
             0,
             "#8e0152"
            ],
            [
             0.1,
             "#c51b7d"
            ],
            [
             0.2,
             "#de77ae"
            ],
            [
             0.3,
             "#f1b6da"
            ],
            [
             0.4,
             "#fde0ef"
            ],
            [
             0.5,
             "#f7f7f7"
            ],
            [
             0.6,
             "#e6f5d0"
            ],
            [
             0.7,
             "#b8e186"
            ],
            [
             0.8,
             "#7fbc41"
            ],
            [
             0.9,
             "#4d9221"
            ],
            [
             1,
             "#276419"
            ]
           ],
           "sequential": [
            [
             0,
             "#0d0887"
            ],
            [
             0.1111111111111111,
             "#46039f"
            ],
            [
             0.2222222222222222,
             "#7201a8"
            ],
            [
             0.3333333333333333,
             "#9c179e"
            ],
            [
             0.4444444444444444,
             "#bd3786"
            ],
            [
             0.5555555555555556,
             "#d8576b"
            ],
            [
             0.6666666666666666,
             "#ed7953"
            ],
            [
             0.7777777777777778,
             "#fb9f3a"
            ],
            [
             0.8888888888888888,
             "#fdca26"
            ],
            [
             1,
             "#f0f921"
            ]
           ],
           "sequentialminus": [
            [
             0,
             "#0d0887"
            ],
            [
             0.1111111111111111,
             "#46039f"
            ],
            [
             0.2222222222222222,
             "#7201a8"
            ],
            [
             0.3333333333333333,
             "#9c179e"
            ],
            [
             0.4444444444444444,
             "#bd3786"
            ],
            [
             0.5555555555555556,
             "#d8576b"
            ],
            [
             0.6666666666666666,
             "#ed7953"
            ],
            [
             0.7777777777777778,
             "#fb9f3a"
            ],
            [
             0.8888888888888888,
             "#fdca26"
            ],
            [
             1,
             "#f0f921"
            ]
           ]
          },
          "colorway": [
           "#636efa",
           "#EF553B",
           "#00cc96",
           "#ab63fa",
           "#FFA15A",
           "#19d3f3",
           "#FF6692",
           "#B6E880",
           "#FF97FF",
           "#FECB52"
          ],
          "font": {
           "color": "#2a3f5f"
          },
          "geo": {
           "bgcolor": "white",
           "lakecolor": "white",
           "landcolor": "#E5ECF6",
           "showlakes": true,
           "showland": true,
           "subunitcolor": "white"
          },
          "hoverlabel": {
           "align": "left"
          },
          "hovermode": "closest",
          "mapbox": {
           "style": "light"
          },
          "paper_bgcolor": "white",
          "plot_bgcolor": "#E5ECF6",
          "polar": {
           "angularaxis": {
            "gridcolor": "white",
            "linecolor": "white",
            "ticks": ""
           },
           "bgcolor": "#E5ECF6",
           "radialaxis": {
            "gridcolor": "white",
            "linecolor": "white",
            "ticks": ""
           }
          },
          "scene": {
           "xaxis": {
            "backgroundcolor": "#E5ECF6",
            "gridcolor": "white",
            "gridwidth": 2,
            "linecolor": "white",
            "showbackground": true,
            "ticks": "",
            "zerolinecolor": "white"
           },
           "yaxis": {
            "backgroundcolor": "#E5ECF6",
            "gridcolor": "white",
            "gridwidth": 2,
            "linecolor": "white",
            "showbackground": true,
            "ticks": "",
            "zerolinecolor": "white"
           },
           "zaxis": {
            "backgroundcolor": "#E5ECF6",
            "gridcolor": "white",
            "gridwidth": 2,
            "linecolor": "white",
            "showbackground": true,
            "ticks": "",
            "zerolinecolor": "white"
           }
          },
          "shapedefaults": {
           "line": {
            "color": "#2a3f5f"
           }
          },
          "ternary": {
           "aaxis": {
            "gridcolor": "white",
            "linecolor": "white",
            "ticks": ""
           },
           "baxis": {
            "gridcolor": "white",
            "linecolor": "white",
            "ticks": ""
           },
           "bgcolor": "#E5ECF6",
           "caxis": {
            "gridcolor": "white",
            "linecolor": "white",
            "ticks": ""
           }
          },
          "title": {
           "x": 0.05
          },
          "xaxis": {
           "automargin": true,
           "gridcolor": "white",
           "linecolor": "white",
           "ticks": "",
           "title": {
            "standoff": 15
           },
           "zerolinecolor": "white",
           "zerolinewidth": 2
          },
          "yaxis": {
           "automargin": true,
           "gridcolor": "white",
           "linecolor": "white",
           "ticks": "",
           "title": {
            "standoff": 15
           },
           "zerolinecolor": "white",
           "zerolinewidth": 2
          }
         }
        },
        "title": {
         "text": "Funil Comercial por Consultora"
        },
        "xaxis": {
         "anchor": "y",
         "domain": [
          0,
          1
         ],
         "title": {
          "text": "Quantidade"
         }
        },
        "yaxis": {
         "anchor": "x",
         "domain": [
          0,
          1
         ],
         "title": {
          "text": "Assunto"
         }
        }
       }
      },
      "text/html": [
       "<div>                            <div id=\"db4f882e-ecf5-41f2-8e55-891c88b4da08\" class=\"plotly-graph-div\" style=\"height:525px; width:100%;\"></div>            <script type=\"text/javascript\">                require([\"plotly\"], function(Plotly) {                    window.PLOTLYENV=window.PLOTLYENV || {};                                    if (document.getElementById(\"db4f882e-ecf5-41f2-8e55-891c88b4da08\")) {                    Plotly.newPlot(                        \"db4f882e-ecf5-41f2-8e55-891c88b4da08\",                        [{\"hovertemplate\":\"Consultora=DANIELLE<br>Quantidade=%{x}<br>Assunto=%{y}<extra></extra>\",\"legendgroup\":\"DANIELLE\",\"marker\":{\"color\":\"#636efa\"},\"name\":\"DANIELLE\",\"orientation\":\"h\",\"showlegend\":true,\"x\":[252.0,44.0,86.0,10.0,17.0,0.0,3.0,2.0],\"xaxis\":\"x\",\"y\":[\"Prospec\\u00e7\\u00e3o\",\"1\\u00ba Atendimento\",\"Follow Up\",\"Elabora\\u00e7\\u00e3o\",\"Apresenta\\u00e7\\u00e3o\",\"Follow Up DP\",\"Fechamento\",\"Lead Morto\"],\"yaxis\":\"y\",\"type\":\"funnel\"},{\"hovertemplate\":\"Consultora=GABRIELA<br>Quantidade=%{x}<br>Assunto=%{y}<extra></extra>\",\"legendgroup\":\"GABRIELA\",\"marker\":{\"color\":\"#EF553B\"},\"name\":\"GABRIELA\",\"orientation\":\"h\",\"showlegend\":true,\"x\":[531.0,26.0,26.0,15.0,11.0,12.0,12.0,0.0],\"xaxis\":\"x\",\"y\":[\"Prospec\\u00e7\\u00e3o\",\"1\\u00ba Atendimento\",\"Follow Up\",\"Elabora\\u00e7\\u00e3o\",\"Apresenta\\u00e7\\u00e3o\",\"Follow Up DP\",\"Fechamento\",\"Lead Morto\"],\"yaxis\":\"y\",\"type\":\"funnel\"},{\"hovertemplate\":\"Consultora=KARINA<br>Quantidade=%{x}<br>Assunto=%{y}<extra></extra>\",\"legendgroup\":\"KARINA\",\"marker\":{\"color\":\"#00cc96\"},\"name\":\"KARINA\",\"orientation\":\"h\",\"showlegend\":true,\"x\":[711.0,18.0,23.0,12.0,1.0,0.0,0.0,0.0],\"xaxis\":\"x\",\"y\":[\"Prospec\\u00e7\\u00e3o\",\"1\\u00ba Atendimento\",\"Follow Up\",\"Elabora\\u00e7\\u00e3o\",\"Apresenta\\u00e7\\u00e3o\",\"Follow Up DP\",\"Fechamento\",\"Lead Morto\"],\"yaxis\":\"y\",\"type\":\"funnel\"}],                        {\"template\":{\"data\":{\"histogram2dcontour\":[{\"type\":\"histogram2dcontour\",\"colorbar\":{\"outlinewidth\":0,\"ticks\":\"\"},\"colorscale\":[[0.0,\"#0d0887\"],[0.1111111111111111,\"#46039f\"],[0.2222222222222222,\"#7201a8\"],[0.3333333333333333,\"#9c179e\"],[0.4444444444444444,\"#bd3786\"],[0.5555555555555556,\"#d8576b\"],[0.6666666666666666,\"#ed7953\"],[0.7777777777777778,\"#fb9f3a\"],[0.8888888888888888,\"#fdca26\"],[1.0,\"#f0f921\"]]}],\"choropleth\":[{\"type\":\"choropleth\",\"colorbar\":{\"outlinewidth\":0,\"ticks\":\"\"}}],\"histogram2d\":[{\"type\":\"histogram2d\",\"colorbar\":{\"outlinewidth\":0,\"ticks\":\"\"},\"colorscale\":[[0.0,\"#0d0887\"],[0.1111111111111111,\"#46039f\"],[0.2222222222222222,\"#7201a8\"],[0.3333333333333333,\"#9c179e\"],[0.4444444444444444,\"#bd3786\"],[0.5555555555555556,\"#d8576b\"],[0.6666666666666666,\"#ed7953\"],[0.7777777777777778,\"#fb9f3a\"],[0.8888888888888888,\"#fdca26\"],[1.0,\"#f0f921\"]]}],\"heatmap\":[{\"type\":\"heatmap\",\"colorbar\":{\"outlinewidth\":0,\"ticks\":\"\"},\"colorscale\":[[0.0,\"#0d0887\"],[0.1111111111111111,\"#46039f\"],[0.2222222222222222,\"#7201a8\"],[0.3333333333333333,\"#9c179e\"],[0.4444444444444444,\"#bd3786\"],[0.5555555555555556,\"#d8576b\"],[0.6666666666666666,\"#ed7953\"],[0.7777777777777778,\"#fb9f3a\"],[0.8888888888888888,\"#fdca26\"],[1.0,\"#f0f921\"]]}],\"heatmapgl\":[{\"type\":\"heatmapgl\",\"colorbar\":{\"outlinewidth\":0,\"ticks\":\"\"},\"colorscale\":[[0.0,\"#0d0887\"],[0.1111111111111111,\"#46039f\"],[0.2222222222222222,\"#7201a8\"],[0.3333333333333333,\"#9c179e\"],[0.4444444444444444,\"#bd3786\"],[0.5555555555555556,\"#d8576b\"],[0.6666666666666666,\"#ed7953\"],[0.7777777777777778,\"#fb9f3a\"],[0.8888888888888888,\"#fdca26\"],[1.0,\"#f0f921\"]]}],\"contourcarpet\":[{\"type\":\"contourcarpet\",\"colorbar\":{\"outlinewidth\":0,\"ticks\":\"\"}}],\"contour\":[{\"type\":\"contour\",\"colorbar\":{\"outlinewidth\":0,\"ticks\":\"\"},\"colorscale\":[[0.0,\"#0d0887\"],[0.1111111111111111,\"#46039f\"],[0.2222222222222222,\"#7201a8\"],[0.3333333333333333,\"#9c179e\"],[0.4444444444444444,\"#bd3786\"],[0.5555555555555556,\"#d8576b\"],[0.6666666666666666,\"#ed7953\"],[0.7777777777777778,\"#fb9f3a\"],[0.8888888888888888,\"#fdca26\"],[1.0,\"#f0f921\"]]}],\"surface\":[{\"type\":\"surface\",\"colorbar\":{\"outlinewidth\":0,\"ticks\":\"\"},\"colorscale\":[[0.0,\"#0d0887\"],[0.1111111111111111,\"#46039f\"],[0.2222222222222222,\"#7201a8\"],[0.3333333333333333,\"#9c179e\"],[0.4444444444444444,\"#bd3786\"],[0.5555555555555556,\"#d8576b\"],[0.6666666666666666,\"#ed7953\"],[0.7777777777777778,\"#fb9f3a\"],[0.8888888888888888,\"#fdca26\"],[1.0,\"#f0f921\"]]}],\"mesh3d\":[{\"type\":\"mesh3d\",\"colorbar\":{\"outlinewidth\":0,\"ticks\":\"\"}}],\"scatter\":[{\"fillpattern\":{\"fillmode\":\"overlay\",\"size\":10,\"solidity\":0.2},\"type\":\"scatter\"}],\"parcoords\":[{\"type\":\"parcoords\",\"line\":{\"colorbar\":{\"outlinewidth\":0,\"ticks\":\"\"}}}],\"scatterpolargl\":[{\"type\":\"scatterpolargl\",\"marker\":{\"colorbar\":{\"outlinewidth\":0,\"ticks\":\"\"}}}],\"bar\":[{\"error_x\":{\"color\":\"#2a3f5f\"},\"error_y\":{\"color\":\"#2a3f5f\"},\"marker\":{\"line\":{\"color\":\"#E5ECF6\",\"width\":0.5},\"pattern\":{\"fillmode\":\"overlay\",\"size\":10,\"solidity\":0.2}},\"type\":\"bar\"}],\"scattergeo\":[{\"type\":\"scattergeo\",\"marker\":{\"colorbar\":{\"outlinewidth\":0,\"ticks\":\"\"}}}],\"scatterpolar\":[{\"type\":\"scatterpolar\",\"marker\":{\"colorbar\":{\"outlinewidth\":0,\"ticks\":\"\"}}}],\"histogram\":[{\"marker\":{\"pattern\":{\"fillmode\":\"overlay\",\"size\":10,\"solidity\":0.2}},\"type\":\"histogram\"}],\"scattergl\":[{\"type\":\"scattergl\",\"marker\":{\"colorbar\":{\"outlinewidth\":0,\"ticks\":\"\"}}}],\"scatter3d\":[{\"type\":\"scatter3d\",\"line\":{\"colorbar\":{\"outlinewidth\":0,\"ticks\":\"\"}},\"marker\":{\"colorbar\":{\"outlinewidth\":0,\"ticks\":\"\"}}}],\"scattermapbox\":[{\"type\":\"scattermapbox\",\"marker\":{\"colorbar\":{\"outlinewidth\":0,\"ticks\":\"\"}}}],\"scatterternary\":[{\"type\":\"scatterternary\",\"marker\":{\"colorbar\":{\"outlinewidth\":0,\"ticks\":\"\"}}}],\"scattercarpet\":[{\"type\":\"scattercarpet\",\"marker\":{\"colorbar\":{\"outlinewidth\":0,\"ticks\":\"\"}}}],\"carpet\":[{\"aaxis\":{\"endlinecolor\":\"#2a3f5f\",\"gridcolor\":\"white\",\"linecolor\":\"white\",\"minorgridcolor\":\"white\",\"startlinecolor\":\"#2a3f5f\"},\"baxis\":{\"endlinecolor\":\"#2a3f5f\",\"gridcolor\":\"white\",\"linecolor\":\"white\",\"minorgridcolor\":\"white\",\"startlinecolor\":\"#2a3f5f\"},\"type\":\"carpet\"}],\"table\":[{\"cells\":{\"fill\":{\"color\":\"#EBF0F8\"},\"line\":{\"color\":\"white\"}},\"header\":{\"fill\":{\"color\":\"#C8D4E3\"},\"line\":{\"color\":\"white\"}},\"type\":\"table\"}],\"barpolar\":[{\"marker\":{\"line\":{\"color\":\"#E5ECF6\",\"width\":0.5},\"pattern\":{\"fillmode\":\"overlay\",\"size\":10,\"solidity\":0.2}},\"type\":\"barpolar\"}],\"pie\":[{\"automargin\":true,\"type\":\"pie\"}]},\"layout\":{\"autotypenumbers\":\"strict\",\"colorway\":[\"#636efa\",\"#EF553B\",\"#00cc96\",\"#ab63fa\",\"#FFA15A\",\"#19d3f3\",\"#FF6692\",\"#B6E880\",\"#FF97FF\",\"#FECB52\"],\"font\":{\"color\":\"#2a3f5f\"},\"hovermode\":\"closest\",\"hoverlabel\":{\"align\":\"left\"},\"paper_bgcolor\":\"white\",\"plot_bgcolor\":\"#E5ECF6\",\"polar\":{\"bgcolor\":\"#E5ECF6\",\"angularaxis\":{\"gridcolor\":\"white\",\"linecolor\":\"white\",\"ticks\":\"\"},\"radialaxis\":{\"gridcolor\":\"white\",\"linecolor\":\"white\",\"ticks\":\"\"}},\"ternary\":{\"bgcolor\":\"#E5ECF6\",\"aaxis\":{\"gridcolor\":\"white\",\"linecolor\":\"white\",\"ticks\":\"\"},\"baxis\":{\"gridcolor\":\"white\",\"linecolor\":\"white\",\"ticks\":\"\"},\"caxis\":{\"gridcolor\":\"white\",\"linecolor\":\"white\",\"ticks\":\"\"}},\"coloraxis\":{\"colorbar\":{\"outlinewidth\":0,\"ticks\":\"\"}},\"colorscale\":{\"sequential\":[[0.0,\"#0d0887\"],[0.1111111111111111,\"#46039f\"],[0.2222222222222222,\"#7201a8\"],[0.3333333333333333,\"#9c179e\"],[0.4444444444444444,\"#bd3786\"],[0.5555555555555556,\"#d8576b\"],[0.6666666666666666,\"#ed7953\"],[0.7777777777777778,\"#fb9f3a\"],[0.8888888888888888,\"#fdca26\"],[1.0,\"#f0f921\"]],\"sequentialminus\":[[0.0,\"#0d0887\"],[0.1111111111111111,\"#46039f\"],[0.2222222222222222,\"#7201a8\"],[0.3333333333333333,\"#9c179e\"],[0.4444444444444444,\"#bd3786\"],[0.5555555555555556,\"#d8576b\"],[0.6666666666666666,\"#ed7953\"],[0.7777777777777778,\"#fb9f3a\"],[0.8888888888888888,\"#fdca26\"],[1.0,\"#f0f921\"]],\"diverging\":[[0,\"#8e0152\"],[0.1,\"#c51b7d\"],[0.2,\"#de77ae\"],[0.3,\"#f1b6da\"],[0.4,\"#fde0ef\"],[0.5,\"#f7f7f7\"],[0.6,\"#e6f5d0\"],[0.7,\"#b8e186\"],[0.8,\"#7fbc41\"],[0.9,\"#4d9221\"],[1,\"#276419\"]]},\"xaxis\":{\"gridcolor\":\"white\",\"linecolor\":\"white\",\"ticks\":\"\",\"title\":{\"standoff\":15},\"zerolinecolor\":\"white\",\"automargin\":true,\"zerolinewidth\":2},\"yaxis\":{\"gridcolor\":\"white\",\"linecolor\":\"white\",\"ticks\":\"\",\"title\":{\"standoff\":15},\"zerolinecolor\":\"white\",\"automargin\":true,\"zerolinewidth\":2},\"scene\":{\"xaxis\":{\"backgroundcolor\":\"#E5ECF6\",\"gridcolor\":\"white\",\"linecolor\":\"white\",\"showbackground\":true,\"ticks\":\"\",\"zerolinecolor\":\"white\",\"gridwidth\":2},\"yaxis\":{\"backgroundcolor\":\"#E5ECF6\",\"gridcolor\":\"white\",\"linecolor\":\"white\",\"showbackground\":true,\"ticks\":\"\",\"zerolinecolor\":\"white\",\"gridwidth\":2},\"zaxis\":{\"backgroundcolor\":\"#E5ECF6\",\"gridcolor\":\"white\",\"linecolor\":\"white\",\"showbackground\":true,\"ticks\":\"\",\"zerolinecolor\":\"white\",\"gridwidth\":2}},\"shapedefaults\":{\"line\":{\"color\":\"#2a3f5f\"}},\"annotationdefaults\":{\"arrowcolor\":\"#2a3f5f\",\"arrowhead\":0,\"arrowwidth\":1},\"geo\":{\"bgcolor\":\"white\",\"landcolor\":\"#E5ECF6\",\"subunitcolor\":\"white\",\"showland\":true,\"showlakes\":true,\"lakecolor\":\"white\"},\"title\":{\"x\":0.05},\"mapbox\":{\"style\":\"light\"}}},\"xaxis\":{\"anchor\":\"y\",\"domain\":[0.0,1.0],\"title\":{\"text\":\"Quantidade\"}},\"yaxis\":{\"anchor\":\"x\",\"domain\":[0.0,1.0],\"title\":{\"text\":\"Assunto\"}},\"legend\":{\"title\":{\"text\":\"Consultora\"},\"tracegroupgap\":0},\"title\":{\"text\":\"Funil Comercial por Consultora\"}},                        {\"responsive\": true}                    ).then(function(){\n",
       "                            \n",
       "var gd = document.getElementById('db4f882e-ecf5-41f2-8e55-891c88b4da08');\n",
       "var x = new MutationObserver(function (mutations, observer) {{\n",
       "        var display = window.getComputedStyle(gd).display;\n",
       "        if (!display || display === 'none') {{\n",
       "            console.log([gd, 'removed!']);\n",
       "            Plotly.purge(gd);\n",
       "            observer.disconnect();\n",
       "        }}\n",
       "}});\n",
       "\n",
       "// Listen for the removal of the full notebook cells\n",
       "var notebookContainer = gd.closest('#notebook-container');\n",
       "if (notebookContainer) {{\n",
       "    x.observe(notebookContainer, {childList: true});\n",
       "}}\n",
       "\n",
       "// Listen for the clearing of the current output cell\n",
       "var outputEl = gd.closest('.output');\n",
       "if (outputEl) {{\n",
       "    x.observe(outputEl, {childList: true});\n",
       "}}\n",
       "\n",
       "                        })                };                });            </script>        </div>"
      ]
     },
     "metadata": {},
     "output_type": "display_data"
    }
   ],
   "source": [
    "fig = px.funnel(df_ordenado, title='Funil Comercial por Consultora', labels={'value': 'Quantidade', 'variable': 'Consultora'})\n",
    "fig.show()"
   ]
  },
  {
   "cell_type": "code",
   "execution_count": 107,
   "id": "3627bf41",
   "metadata": {},
   "outputs": [
    {
     "data": {
      "image/png": "[encoded data removed]",
      "text/plain": [
       "<Figure size 1000x800 with 1 Axes>"
      ]
     },
     "metadata": {},
     "output_type": "display_data"
    }
   ],
   "source": [
    "import matplotlib.pyplot as plt\n",
    "import numpy as np\n",
    "\n",
    "# Dados\n",
    "consultoras = ['DANIELLE', 'GABRIELA', 'KARINA']\n",
    "etapas = ['Prospecção', '1º Atendimento', 'Follow Up', 'Elaboração', 'Apresentação', 'Follow Up DP', 'Fechamento', 'Lead Morto']\n",
    "dados = np.array([\n",
    "    [252, 44, 86, 10, 17, 0, 3, 2],\n",
    "    [531, 26, 26, 15, 11, 12, 12, 0],\n",
    "    [711, 18, 23, 12, 1, 0, 0, 0]\n",
    "])\n",
    "\n",
    "# Criando o gráfico de funil\n",
    "fig, ax = plt.subplots(figsize=(10, 8))\n",
    "\n",
    "bottom = np.zeros(len(etapas))\n",
    "for i, consultora in enumerate(consultoras):\n",
    "    ax.barh(etapas, dados[i], label=consultora, left=bottom)\n",
    "    bottom += dados[i]\n",
    "\n",
    "# Configurando rótulos e legendas\n",
    "ax.set_xlabel('Quantidade')\n",
    "ax.set_title('Gráfico de Funil por Consultora')\n",
    "ax.legend(title='Consultora', loc='upper left')\n",
    "\n",
    "plt.show()\n",
    "\n",
    "\n"
   ]
  },
  {
   "cell_type": "markdown",
   "id": "c144564c",
   "metadata": {},
   "source": [
    "## Métricas de Desempenho Absolutas\n"
   ]
  },
  {
   "cell_type": "markdown",
   "id": "8024e4c3",
   "metadata": {},
   "source": [
    "#### Leads Totais\n",
    "\n",
    "Somatórios de leads e clientes trabalhados por consultora no período"
   ]
  },
  {
   "cell_type": "code",
   "execution_count": 102,
   "id": "978eb224",
   "metadata": {},
   "outputs": [
    {
     "data": {
      "text/plain": [
       "KARINA      855\n",
       "GABRIELA    657\n",
       "DANIELLE    495\n",
       "Name: Consultor, dtype: int64"
      ]
     },
     "execution_count": 102,
     "metadata": {},
     "output_type": "execute_result"
    }
   ],
   "source": [
    "df['Consultor'].value_counts()"
   ]
  },
  {
   "cell_type": "markdown",
   "id": "facbfeb1",
   "metadata": {},
   "source": [
    "#### Apresentação de Proposta\n",
    "\n"
   ]
  },
  {
   "cell_type": "code",
   "execution_count": 100,
   "id": "c541d629",
   "metadata": {},
   "outputs": [
    {
     "data": {
      "text/html": [
       "<div>\n",
       "<style scoped>\n",
       "    .dataframe tbody tr th:only-of-type {\n",
       "        vertical-align: middle;\n",
       "    }\n",
       "\n",
       "    .dataframe tbody tr th {\n",
       "        vertical-align: top;\n",
       "    }\n",
       "\n",
       "    .dataframe thead th {\n",
       "        text-align: right;\n",
       "    }\n",
       "</style>\n",
       "<table border=\"1\" class=\"dataframe\">\n",
       "  <thead>\n",
       "    <tr style=\"text-align: right;\">\n",
       "      <th>Assunto</th>\n",
       "      <th>APRESENTAÇÃO DE PROPOSTA</th>\n",
       "    </tr>\n",
       "    <tr>\n",
       "      <th>Consultor</th>\n",
       "      <th></th>\n",
       "    </tr>\n",
       "  </thead>\n",
       "  <tbody>\n",
       "    <tr>\n",
       "      <th>DANIELLE</th>\n",
       "      <td>8</td>\n",
       "    </tr>\n",
       "    <tr>\n",
       "      <th>GABRIELA</th>\n",
       "      <td>4</td>\n",
       "    </tr>\n",
       "    <tr>\n",
       "      <th>KARINA</th>\n",
       "      <td>1</td>\n",
       "    </tr>\n",
       "  </tbody>\n",
       "</table>\n",
       "</div>"
      ],
      "text/plain": [
       "Assunto    APRESENTAÇÃO DE PROPOSTA\n",
       "Consultor                          \n",
       "DANIELLE                          8\n",
       "GABRIELA                          4\n",
       "KARINA                            1"
      ]
     },
     "execution_count": 100,
     "metadata": {},
     "output_type": "execute_result"
    }
   ],
   "source": [
    "apresentacao = df[df['Assunto']=='APRESENTAÇÃO DE PROPOSTA']\n",
    "apresentacao.pivot_table(index='Consultor', columns='Assunto', aggfunc='size', fill_value=0)"
   ]
  },
  {
   "cell_type": "markdown",
   "id": "8bd10666",
   "metadata": {},
   "source": [
    "#### Aguardando Proposta"
   ]
  },
  {
   "cell_type": "code",
   "execution_count": 101,
   "id": "85b9976d",
   "metadata": {},
   "outputs": [
    {
     "data": {
      "text/html": [
       "<div>\n",
       "<style scoped>\n",
       "    .dataframe tbody tr th:only-of-type {\n",
       "        vertical-align: middle;\n",
       "    }\n",
       "\n",
       "    .dataframe tbody tr th {\n",
       "        vertical-align: top;\n",
       "    }\n",
       "\n",
       "    .dataframe thead th {\n",
       "        text-align: right;\n",
       "    }\n",
       "</style>\n",
       "<table border=\"1\" class=\"dataframe\">\n",
       "  <thead>\n",
       "    <tr style=\"text-align: right;\">\n",
       "      <th>Assunto</th>\n",
       "      <th>AGUARDANDO PROPOSTA</th>\n",
       "    </tr>\n",
       "    <tr>\n",
       "      <th>Consultor</th>\n",
       "      <th></th>\n",
       "    </tr>\n",
       "  </thead>\n",
       "  <tbody>\n",
       "    <tr>\n",
       "      <th>DANIELLE</th>\n",
       "      <td>5</td>\n",
       "    </tr>\n",
       "    <tr>\n",
       "      <th>GABRIELA</th>\n",
       "      <td>7</td>\n",
       "    </tr>\n",
       "    <tr>\n",
       "      <th>KARINA</th>\n",
       "      <td>7</td>\n",
       "    </tr>\n",
       "  </tbody>\n",
       "</table>\n",
       "</div>"
      ],
      "text/plain": [
       "Assunto    AGUARDANDO PROPOSTA\n",
       "Consultor                     \n",
       "DANIELLE                     5\n",
       "GABRIELA                     7\n",
       "KARINA                       7"
      ]
     },
     "execution_count": 101,
     "metadata": {},
     "output_type": "execute_result"
    }
   ],
   "source": [
    "aguardando = df[df['Assunto']=='AGUARDANDO PROPOSTA']\n",
    "aguardando.pivot_table(index='Consultor', columns='Assunto', aggfunc='size', fill_value=0)"
   ]
  },
  {
   "cell_type": "markdown",
   "id": "25ab9cf7",
   "metadata": {},
   "source": [
    "#### Finalizações\n",
    "\n",
    "Aqui considera-se somente os clientes que já tiveram suas cessões assinadas."
   ]
  },
  {
   "cell_type": "code",
   "execution_count": 98,
   "id": "a7a7db57",
   "metadata": {
    "scrolled": false
   },
   "outputs": [
    {
     "data": {
      "text/html": [
       "<div>\n",
       "<style scoped>\n",
       "    .dataframe tbody tr th:only-of-type {\n",
       "        vertical-align: middle;\n",
       "    }\n",
       "\n",
       "    .dataframe tbody tr th {\n",
       "        vertical-align: top;\n",
       "    }\n",
       "\n",
       "    .dataframe thead th {\n",
       "        text-align: right;\n",
       "    }\n",
       "</style>\n",
       "<table border=\"1\" class=\"dataframe\">\n",
       "  <thead>\n",
       "    <tr style=\"text-align: right;\">\n",
       "      <th>Assunto</th>\n",
       "      <th>ASSINATURA/PAGAMENTO</th>\n",
       "    </tr>\n",
       "    <tr>\n",
       "      <th>Consultor</th>\n",
       "      <th></th>\n",
       "    </tr>\n",
       "  </thead>\n",
       "  <tbody>\n",
       "    <tr>\n",
       "      <th>DANIELLE</th>\n",
       "      <td>1</td>\n",
       "    </tr>\n",
       "    <tr>\n",
       "      <th>GABRIELA</th>\n",
       "      <td>4</td>\n",
       "    </tr>\n",
       "  </tbody>\n",
       "</table>\n",
       "</div>"
      ],
      "text/plain": [
       "Assunto    ASSINATURA/PAGAMENTO\n",
       "Consultor                      \n",
       "DANIELLE                      1\n",
       "GABRIELA                      4"
      ]
     },
     "execution_count": 98,
     "metadata": {},
     "output_type": "execute_result"
    }
   ],
   "source": [
    "fechamentos = df[df['Assunto']=='ASSINATURA/PAGAMENTO']\n",
    "fechamentos.pivot_table(index='Consultor', columns='Assunto', aggfunc='size', fill_value=0)"
   ]
  },
  {
   "cell_type": "markdown",
   "id": "d72c3a14",
   "metadata": {},
   "source": [
    "## Métricas de Desempenho Relativo"
   ]
  },
  {
   "cell_type": "markdown",
   "id": "a264878d",
   "metadata": {},
   "source": [
    "#### Conversão\n",
    "\n",
    "1º Atendimento/Prospecção\n",
    "\n",
    "Usa-se essa métrica para medir a efetividade dos métodos de contato com os leads."
   ]
  },
  {
   "cell_type": "code",
   "execution_count": 79,
   "id": "4a2a4b0f",
   "metadata": {},
   "outputs": [
    {
     "name": "stdout",
     "output_type": "stream",
     "text": [
      "CONVERSÃO PROSPECÇÃO -> ATENDIMENTO\n",
      "\n",
      "===================================\n",
      "\n",
      "DANIELLE    17.46%\n",
      "GABRIELA     4.90%\n",
      "KARINA       2.53%\n",
      "dtype: object\n",
      "\n",
      "Conversão total: \n"
     ]
    }
   ],
   "source": [
    "conversao_prospeccao_atendimento = df_ordenado.loc['1º Atendimento'] / df_ordenado.loc['Prospecção']\n",
    "conversao_prospeccao_atendimento_total = df_ordenado.loc['1º Atendimento'].sum() / df_ordenado.loc['Prospecção'].sum()\n",
    "\n",
    "print(\"CONVERSÃO PROSPECÇÃO -> ATENDIMENTO\\n\")\n",
    "print('===================================\\n')\n",
    "print(conversao_prospeccao_atendimento.map(lambda x: f'{x:.2%}'))\n",
    "print('\\nConversão total: ') \n",
    "# conversao_prospeccao_atendimento_total\n"
   ]
  },
  {
   "cell_type": "markdown",
   "id": "4f52e93c",
   "metadata": {},
   "source": [
    "##### Jurídico\n",
    "\n",
    "Apresentação/Elaboração\n",
    "\n",
    "\n",
    "\n"
   ]
  },
  {
   "cell_type": "code",
   "execution_count": 103,
   "id": "59e4c408",
   "metadata": {},
   "outputs": [
    {
     "name": "stdout",
     "output_type": "stream",
     "text": [
      "CONVERSÃO JURÍDICO\n",
      "===================================\n"
     ]
    },
    {
     "data": {
      "text/plain": [
       "DANIELLE    62.96%\n",
       "GABRIELA    42.31%\n",
       "KARINA       7.69%\n",
       "dtype: object"
      ]
     },
     "execution_count": 103,
     "metadata": {},
     "output_type": "execute_result"
    }
   ],
   "source": [
    "conversao_juridico = df_ordenado.loc['Apresentação'] / (df_ordenado.loc['Elaboração']+ df_ordenado.loc['Apresentação'])\n",
    "print(\"CONVERSÃO JURÍDICO\")\n",
    "print('===================================')\n",
    "conversao_juridico.map(lambda x: f'{x:.2%}')"
   ]
  },
  {
   "cell_type": "markdown",
   "id": "3932bfca",
   "metadata": {},
   "source": [
    "##### Assinaturas\n",
    "\n",
    "Fechamentos/Potenciais Clientes\n",
    "\n",
    "Considera-se um potencial cliente alguém que ao menos quis receber uma proposta, ou seja, está na etapa de elaboração. Daí, somam-se todas as etapas até o momento do aceite por parte do cliente."
   ]
  },
  {
   "cell_type": "code",
   "execution_count": 81,
   "id": "248b8495",
   "metadata": {
    "scrolled": true
   },
   "outputs": [
    {
     "name": "stdout",
     "output_type": "stream",
     "text": [
      "CONVERSÃO ASSINATURAS\n",
      "===================================\n"
     ]
    },
    {
     "data": {
      "text/plain": [
       "DANIELLE    11.11%\n",
       "GABRIELA    31.58%\n",
       "KARINA       0.00%\n",
       "dtype: object"
      ]
     },
     "execution_count": 81,
     "metadata": {},
     "output_type": "execute_result"
    }
   ],
   "source": [
    "conversao_assinaturas = df_ordenado.loc['Fechamento'] / (df_ordenado.loc['Elaboração'] + df_ordenado.loc['Apresentação']+\n",
    "                                                         df_ordenado.loc['Follow Up DP'])\n",
    "                                                         \n",
    "print(\"CONVERSÃO ASSINATURAS\")\n",
    "print('===================================')\n",
    "conversao_assinaturas.map(lambda x: f'{x:.2%}')"
   ]
  },
  {
   "cell_type": "code",
   "execution_count": null,
   "id": "42d62e64",
   "metadata": {},
   "outputs": [],
   "source": []
  }
 ],
 "metadata": {
  "kernelspec": {
   "display_name": "Python 3 (ipykernel)",
   "language": "python",
   "name": "python3"
  },
  "language_info": {
   "codemirror_mode": {
    "name": "ipython",
    "version": 3
   },
   "file_extension": ".py",
   "mimetype": "text/x-python",
   "name": "python",
   "nbconvert_exporter": "python",
   "pygments_lexer": "ipython3",
   "version": "3.11.4"
  }
 },
 "nbformat": 4,
 "nbformat_minor": 5
}
